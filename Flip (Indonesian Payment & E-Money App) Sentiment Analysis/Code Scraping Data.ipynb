{
 "cells": [
  {
   "cell_type": "markdown",
   "id": "ed065075-950d-4772-9e96-098c08b9eaec",
   "metadata": {},
   "source": [
    "# Scrapping Data"
   ]
  },
  {
   "cell_type": "markdown",
   "id": "a255f847-ba9c-42de-ad43-13430a55eb72",
   "metadata": {},
   "source": [
    "#### Desclaimer\n",
    "- Kak Maaf kalau code yg tertulis di code scrapping data beda sama file csv yg disubmit, tapi caranya sama kok, cuma kemarin oba-coba, dan yg paling bagus itu file ulasan_aplikasi_flip1.csv hehe\n",
    "- Dan maaf kalau angka run cell-nya gak urut kak, karena ngerjainnya pararel juga coba-coba di google colab biar cepet gitu kak hehe"
   ]
  },
  {
   "cell_type": "code",
   "execution_count": 16,
   "id": "210b2bf0-f46a-4b85-ab98-d0d617d8a6f1",
   "metadata": {},
   "outputs": [],
   "source": [
    "import pandas as pd\n",
    "import csv"
   ]
  },
  {
   "cell_type": "code",
   "execution_count": 40,
   "id": "66ab3828-c682-4eb5-a862-1ceaf741180c",
   "metadata": {},
   "outputs": [],
   "source": [
    "# Mengimpor pustaka google_play_scraper untuk mengakses ulasan dan informasi aplikasi dari Google Play Store.\n",
    "from google_play_scraper import app, reviews_all, Sort, reviews\n",
    "\n",
    "# Mengambil semua ulasan dari aplikasi dengan ID 'com.byu.id' di Google Play Store.\n",
    "# Proses scraping mungkin memerlukan beberapa saat tergantung pada jumlah ulasan yang ada.\n",
    "scrapreview = reviews_all(\n",
    "    'id.flip',          # ID aplikasi\n",
    "    lang='id',             # Bahasa ulasan (default: 'en')\n",
    "    country='id',          # Negara (default: 'us')\n",
    "    sort=Sort.MOST_RELEVANT, # Urutan ulasan (default: Sort.MOST_RELEVANT)\n",
    "    count=1000\n",
    ")"
   ]
  },
  {
   "cell_type": "code",
   "execution_count": 41,
   "id": "554dc920-084d-4865-84d5-71ea636268f3",
   "metadata": {},
   "outputs": [],
   "source": [
    "flip_reviews_df = pd.DataFrame(scrapreview)\n",
    "flip_reviews_df.shape\n",
    "flip_reviews_df.head()\n",
    "flip_reviews_df.to_csv('ulasan_aplikasi_flip3.csv', index=False)"
   ]
  },
  {
   "cell_type": "code",
   "execution_count": 42,
   "id": "0cfdcaa4-27d6-4e77-a2a7-82d667c0ecf9",
   "metadata": {},
   "outputs": [],
   "source": [
    "# Menyimpan ulasan dalam file CSV\n",
    "with open('ulasan_aplikasi_flip3.csv', mode='w', newline='', encoding='utf-8') as file:\n",
    "    writer = csv.writer(file)\n",
    "    writer.writerow(['Review'])  # Menulis header kolom\n",
    "    for review in scrapreview:\n",
    "        writer.writerow([review['content']])  # Menulis konten ulasan ke dalam file CSV"
   ]
  }
 ],
 "metadata": {
  "kernelspec": {
   "display_name": "Python 3 (ipykernel)",
   "language": "python",
   "name": "python3"
  },
  "language_info": {
   "codemirror_mode": {
    "name": "ipython",
    "version": 3
   },
   "file_extension": ".py",
   "mimetype": "text/x-python",
   "name": "python",
   "nbconvert_exporter": "python",
   "pygments_lexer": "ipython3",
   "version": "3.11.9"
  }
 },
 "nbformat": 4,
 "nbformat_minor": 5
}
