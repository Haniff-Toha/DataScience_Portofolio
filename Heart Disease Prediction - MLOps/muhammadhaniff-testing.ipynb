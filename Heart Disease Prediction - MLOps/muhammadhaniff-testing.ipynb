{
 "cells": [
  {
   "cell_type": "code",
   "execution_count": 1,
   "metadata": {},
   "outputs": [],
   "source": [
    "import base64\n",
    "import json\n",
    "import random\n",
    "\n",
    "import pandas as pd\n",
    "import requests\n",
    "import tensorflow as tf"
   ]
  },
  {
   "cell_type": "code",
   "execution_count": 3,
   "metadata": {},
   "outputs": [
    {
     "data": {
      "text/plain": [
       "{'age': 46.0,\n",
       " 'sex': 0.0,\n",
       " 'chest_pain_type': 1.0,\n",
       " 'resting_bp': 105.0,\n",
       " 'cholestoral': 204.0,\n",
       " 'fasting_blood_sugar': 0.0,\n",
       " 'restecg': 1.0,\n",
       " 'max_hr': 172.0,\n",
       " 'exang': 0.0,\n",
       " 'oldpeak': 0.0,\n",
       " 'slope': 2.0,\n",
       " 'num_major_vessels': 0.0,\n",
       " 'thal': 2.0}"
      ]
     },
     "execution_count": 3,
     "metadata": {},
     "output_type": "execute_result"
    }
   ],
   "source": [
    "df = pd.read_csv(\"data/heart.csv\")\n",
    "y = df.pop(\"target\")\n",
    "\n",
    "columns = df.columns.values\n",
    "rand = random.randint(0, len(df))\n",
    "\n",
    "features = df.values[rand]\n",
    "label = y[rand]\n",
    "\n",
    "inputs = {key: value for key, value in zip(columns, features)}\n",
    "inputs"
   ]
  },
  {
   "cell_type": "code",
   "execution_count": 4,
   "metadata": {},
   "outputs": [],
   "source": [
    "def string_feature(value):\n",
    "    return tf.train.Feature(\n",
    "        bytes_list=tf.train.BytesList(value=[bytes(value, \"utf-8\")]),\n",
    "    )\n",
    "\n",
    "\n",
    "def float_feature(value):\n",
    "    return tf.train.Feature(\n",
    "        float_list=tf.train.FloatList(value=[value]),\n",
    "    )\n",
    "\n",
    "\n",
    "def int_feature(value):\n",
    "    return tf.train.Feature(\n",
    "        int64_list=tf.train.Int64List(value=[value]),\n",
    "    )"
   ]
  },
  {
   "cell_type": "code",
   "execution_count": 18,
   "metadata": {},
   "outputs": [],
   "source": [
    "def prepare_json(inputs: dict):\n",
    "    feature_spec = dict()\n",
    "\n",
    "    for keys, values in inputs.items():\n",
    "        if keys == \"oldpeak\":\n",
    "            feature_spec[keys] = float_feature(float(values))\n",
    "        else:\n",
    "            feature_spec[keys] = int_feature(int(values))\n",
    "\n",
    "    example = tf.train.Example(\n",
    "        features=tf.train.Features(feature=feature_spec)\n",
    "    ).SerializeToString()\n",
    "\n",
    "    result = [{\"examples\": {\"b64\": base64.b64encode(example).decode()}}]\n",
    "\n",
    "    return json.dumps(\n",
    "        {\n",
    "            \"signature_name\": \"serving_default\",\n",
    "            \"instances\": result,\n",
    "        }\n",
    "    )"
   ]
  },
  {
   "cell_type": "code",
   "execution_count": 20,
   "metadata": {},
   "outputs": [],
   "source": [
    "def make_predictions(inputs):\n",
    "    json_data = prepare_json(inputs)\n",
    "\n",
    "    endpoint = (\n",
    "        \"https://heart-disease-prediction-production-a4aa.up.railway.app/v1/models/heart-disease-model:predict\"\n",
    "    )\n",
    "    response = requests.post(endpoint, data=json_data)\n",
    "    \n",
    "    # Print the response status and content for debugging\n",
    "    print(\"Response Status Code:\", response.status_code)\n",
    "    print(\"Response Content:\", response.text)\n",
    "\n",
    "    # Attempt to parse the prediction\n",
    "    try:\n",
    "        prediction = response.json()[\"predictions\"][0][0]\n",
    "    except KeyError:\n",
    "        return \"Error: 'predictions' key not found in the response.\"\n",
    "\n",
    "    if prediction < 0.5:\n",
    "        return \"No disease\"\n",
    "    else:\n",
    "        return \"Disease\"\n"
   ]
  },
  {
   "cell_type": "code",
   "execution_count": 21,
   "metadata": {},
   "outputs": [
    {
     "name": "stdout",
     "output_type": "stream",
     "text": [
      "Response Status Code: 200\n",
      "Response Content: {\n",
      "    \"predictions\": [[0.993837714]\n",
      "    ]\n",
      "}\n"
     ]
    },
    {
     "data": {
      "text/plain": [
       "'Disease'"
      ]
     },
     "execution_count": 21,
     "metadata": {},
     "output_type": "execute_result"
    }
   ],
   "source": [
    "make_predictions(inputs)"
   ]
  },
  {
   "cell_type": "code",
   "execution_count": 22,
   "metadata": {},
   "outputs": [
    {
     "data": {
      "text/plain": [
       "{'age': 60.0,\n",
       " 'sex': 1.0,\n",
       " 'chest_pain_type': 2.0,\n",
       " 'resting_bp': 140.0,\n",
       " 'cholestoral': 185.0,\n",
       " 'fasting_blood_sugar': 0.0,\n",
       " 'restecg': 0.0,\n",
       " 'max_hr': 155.0,\n",
       " 'exang': 0.0,\n",
       " 'oldpeak': 3.0,\n",
       " 'slope': 1.0,\n",
       " 'num_major_vessels': 0.0,\n",
       " 'thal': 2.0}"
      ]
     },
     "execution_count": 22,
     "metadata": {},
     "output_type": "execute_result"
    }
   ],
   "source": [
    "columns = df.columns.values\n",
    "rand = random.randint(0, len(df))\n",
    "\n",
    "features = df.values[rand]\n",
    "label = y[rand]\n",
    "\n",
    "inputs = {key: value for key, value in zip(columns, features)}\n",
    "inputs"
   ]
  },
  {
   "cell_type": "code",
   "execution_count": 23,
   "metadata": {},
   "outputs": [
    {
     "name": "stdout",
     "output_type": "stream",
     "text": [
      "Response Status Code: 200\n",
      "Response Content: {\n",
      "    \"predictions\": [[0.917447329]\n",
      "    ]\n",
      "}\n"
     ]
    },
    {
     "data": {
      "text/plain": [
       "'Disease'"
      ]
     },
     "execution_count": 23,
     "metadata": {},
     "output_type": "execute_result"
    }
   ],
   "source": [
    "make_predictions(inputs)"
   ]
  },
  {
   "cell_type": "code",
   "execution_count": 24,
   "metadata": {},
   "outputs": [
    {
     "data": {
      "text/plain": [
       "{'age': 44.0,\n",
       " 'sex': 1.0,\n",
       " 'chest_pain_type': 0.0,\n",
       " 'resting_bp': 112.0,\n",
       " 'cholestoral': 290.0,\n",
       " 'fasting_blood_sugar': 0.0,\n",
       " 'restecg': 0.0,\n",
       " 'max_hr': 153.0,\n",
       " 'exang': 0.0,\n",
       " 'oldpeak': 0.0,\n",
       " 'slope': 2.0,\n",
       " 'num_major_vessels': 1.0,\n",
       " 'thal': 2.0}"
      ]
     },
     "execution_count": 24,
     "metadata": {},
     "output_type": "execute_result"
    }
   ],
   "source": [
    "columns = df.columns.values\n",
    "rand = random.randint(0, len(df))\n",
    "\n",
    "features = df.values[rand]\n",
    "label = y[rand]\n",
    "\n",
    "inputs = {key: value for key, value in zip(columns, features)}\n",
    "inputs"
   ]
  },
  {
   "cell_type": "code",
   "execution_count": 25,
   "metadata": {},
   "outputs": [
    {
     "name": "stdout",
     "output_type": "stream",
     "text": [
      "Response Status Code: 200\n",
      "Response Content: {\n",
      "    \"predictions\": [[0.0458697714]\n",
      "    ]\n",
      "}\n"
     ]
    },
    {
     "data": {
      "text/plain": [
       "'No disease'"
      ]
     },
     "execution_count": 25,
     "metadata": {},
     "output_type": "execute_result"
    }
   ],
   "source": [
    "make_predictions(inputs)"
   ]
  }
 ],
 "metadata": {
  "kernelspec": {
   "display_name": "mlops-tfx",
   "language": "python",
   "name": "python3"
  },
  "language_info": {
   "codemirror_mode": {
    "name": "ipython",
    "version": 3
   },
   "file_extension": ".py",
   "mimetype": "text/x-python",
   "name": "python",
   "nbconvert_exporter": "python",
   "pygments_lexer": "ipython3",
   "version": "3.9.15"
  }
 },
 "nbformat": 4,
 "nbformat_minor": 2
}
